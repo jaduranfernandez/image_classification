{
 "cells": [
  {
   "attachments": {},
   "cell_type": "markdown",
   "metadata": {},
   "source": [
    "# Image Classification\n",
    "The idea of this project is to train a Neural Network to classify images."
   ]
  },
  {
   "cell_type": "code",
   "execution_count": null,
   "metadata": {},
   "outputs": [],
   "source": [
    "from data_manipulation.data_loaders import CifarDataLoader\n",
    "from model.base_model import NeuralNetwork\n",
    "from model.trainer import Trainer\n",
    "import torch\n",
    "\n",
    "data = CifarDataLoader(validation_split=0.1)\n"
   ]
  },
  {
   "cell_type": "code",
   "execution_count": 1,
   "metadata": {},
   "outputs": [
    {
     "name": "stdout",
     "output_type": "stream",
     "text": [
      "Files already downloaded and verified\n",
      "Files already downloaded and verified\n"
     ]
    }
   ],
   "source": [
    "from data_manipulation.data_loaders import CifarDataLoader\n",
    "from torch.nn import CrossEntropyLoss\n",
    "from torch.optim import SGD, Adam\n",
    "from models.trainer import Trainer\n",
    "\n",
    "data = CifarDataLoader()\n"
   ]
  },
  {
   "cell_type": "code",
   "execution_count": null,
   "metadata": {},
   "outputs": [],
   "source": [
    "from models.LeNet_5 import LeNet_5\n",
    "from models.VGG_16 import VGG_16\n",
    "from models.SimpleNet import SimpleNet\n",
    "from models.base_model import NeuralNetwork\n",
    "\n",
    "\n",
    "\n",
    "#model = LeNet_5(n_inputs=3, n_classes=10)\n",
    "model = VGG_16(n_classes=10)\n",
    "#model = SimpleNet(n_classes=10)\n",
    "\n",
    "#model = NeuralNetwork()\n",
    "#print(model)\n",
    "criterion = CrossEntropyLoss()\n",
    "#optimizer = Adam(model.parameters(), lr = 0.001)\n",
    "optimizer = SGD(model.parameters(), lr=0.001, momentum=0.9)\n",
    "\n",
    "\n",
    "trainer = Trainer(model, criterion, optimizer)\n",
    "#print(data.valid_sampler)\n"
   ]
  },
  {
   "cell_type": "code",
   "execution_count": null,
   "metadata": {},
   "outputs": [],
   "source": [
    "epochs = 10\n",
    "for t in range(epochs):\n",
    "    print(f\"Epoch {t+1}\\n-------------------------------\")\n",
    "    trainer.train(data.trainloader)\n",
    "    trainer.test(data.testloader)\n",
    "print(\"Done!\")"
   ]
  },
  {
   "cell_type": "code",
   "execution_count": null,
   "metadata": {},
   "outputs": [],
   "source": [
    "import torch\n",
    "torch.save(model, model.model_name + \".pth\")"
   ]
  },
  {
   "cell_type": "code",
   "execution_count": null,
   "metadata": {},
   "outputs": [],
   "source": [
    "data.dataset\n",
    "size = len(data.dataset)\n",
    "print(size)\n",
    "for batch, (X, y) in enumerate(data):\n",
    "    print(batch)\n"
   ]
  },
  {
   "cell_type": "code",
   "execution_count": null,
   "metadata": {},
   "outputs": [],
   "source": [
    "data = DataLoader()\n",
    "#data.show_subplot(4,4)"
   ]
  },
  {
   "cell_type": "code",
   "execution_count": null,
   "metadata": {},
   "outputs": [],
   "source": [
    "model = NeuralNetwork()\n",
    "print(model)"
   ]
  },
  {
   "cell_type": "code",
   "execution_count": null,
   "metadata": {},
   "outputs": [],
   "source": [
    "criterion = torch.nn.CrossEntropyLoss()\n",
    "optimizer = torch.optim.SGD(model.parameters(), lr=0.001, momentum=0.9)\n",
    "\n",
    "trainer = Trainer(model, criterion, optimizer)"
   ]
  },
  {
   "cell_type": "code",
   "execution_count": null,
   "metadata": {},
   "outputs": [],
   "source": [
    "trainer.train(data.trainloader)"
   ]
  },
  {
   "cell_type": "code",
   "execution_count": null,
   "metadata": {},
   "outputs": [],
   "source": [
    "trainer.test(data.testloader)"
   ]
  },
  {
   "cell_type": "code",
   "execution_count": null,
   "metadata": {},
   "outputs": [],
   "source": [
    "imageIndex = 310\n",
    "\n",
    "\n",
    "\n",
    "cols, rows = 4, 4\n",
    "figure = plt.figure(figsize=(8, 8))\n",
    "images_index = []\n",
    "for i in range(1, cols * rows + 1):\n",
    "    sample_idx = torch.randint(len(data.testset), size=(1,)).item()\n",
    "    img, label = data.testset[sample_idx]\n",
    "    images_index.append(sample_idx)\n",
    "    ax = figure.add_subplot(rows, cols, i)\n",
    "    ax.set_title(data.classes[label])\n",
    "    plt.axis(\"off\")\n",
    "    imshow(img)\n"
   ]
  },
  {
   "cell_type": "code",
   "execution_count": null,
   "metadata": {},
   "outputs": [],
   "source": [
    "figure = plt.figure(figsize=(8, 8))\n",
    "for i in range(1, cols * rows + 1):\n",
    "    index = images_index[i-1]\n",
    "    img, label = data.testset[index]\n",
    "    outputs = model(img)\n",
    "    _, predicted = torch.max(outputs, 1)\n",
    "    ax = figure.add_subplot(rows, cols, i)\n",
    "    ax.set_title(data.classes[predicted])\n",
    "    plt.axis(\"off\")\n",
    "    imshow(img)\n"
   ]
  },
  {
   "cell_type": "code",
   "execution_count": null,
   "metadata": {},
   "outputs": [],
   "source": [
    "data.classes"
   ]
  },
  {
   "cell_type": "code",
   "execution_count": null,
   "metadata": {},
   "outputs": [],
   "source": [
    "epochs = 2\n",
    "for t in range(epochs):\n",
    "    print(f\"Epoch {t+1}\\n-------------------------------\")\n",
    "    trainer.train(data.trainloader)\n",
    "    trainer.test(data.testloader)\n",
    "print(\"Done!\")"
   ]
  }
 ],
 "metadata": {
  "kernelspec": {
   "display_name": "Python 3",
   "language": "python",
   "name": "python3"
  },
  "language_info": {
   "codemirror_mode": {
    "name": "ipython",
    "version": 3
   },
   "file_extension": ".py",
   "mimetype": "text/x-python",
   "name": "python",
   "nbconvert_exporter": "python",
   "pygments_lexer": "ipython3",
   "version": "3.11.0"
  },
  "orig_nbformat": 4
 },
 "nbformat": 4,
 "nbformat_minor": 2
}
