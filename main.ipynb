{
 "cells": [
  {
   "attachments": {},
   "cell_type": "markdown",
   "metadata": {},
   "source": [
    "# Image Classification\n",
    "The idea of this project is to train a Neural Network to classify images."
   ]
  },
  {
   "cell_type": "code",
   "execution_count": 1,
   "metadata": {},
   "outputs": [
    {
     "name": "stdout",
     "output_type": "stream",
     "text": [
      "skere\n",
      "Files already downloaded and verified\n",
      "Files already downloaded and verified\n"
     ]
    }
   ],
   "source": [
    "from data_manipulation.data_loader import DataLoader\n",
    "\n",
    "data = DataLoader()\n"
   ]
  },
  {
   "cell_type": "code",
   "execution_count": 3,
   "metadata": {},
   "outputs": [
    {
     "ename": "NameError",
     "evalue": "name 'np' is not defined",
     "output_type": "error",
     "traceback": [
      "\u001b[1;31m---------------------------------------------------------------------------\u001b[0m",
      "\u001b[1;31mNameError\u001b[0m                                 Traceback (most recent call last)",
      "\u001b[1;32mc:\\Users\\jadur\\Documents\\Hackerman\\PyTorch\\image_classification\\main.ipynb Cell 3\u001b[0m in \u001b[0;36m1\n\u001b[1;32m----> <a href='vscode-notebook-cell:/c%3A/Users/jadur/Documents/Hackerman/PyTorch/image_classification/main.ipynb#W2sZmlsZQ%3D%3D?line=0'>1</a>\u001b[0m data\u001b[39m.\u001b[39;49mshow_subplot()\n",
      "File \u001b[1;32mc:\\Users\\jadur\\Documents\\Hackerman\\PyTorch\\image_classification\\data_manipulation\\data_loader.py:52\u001b[0m, in \u001b[0;36mDataLoader.show_subplot\u001b[1;34m(self, rows, cols)\u001b[0m\n\u001b[0;32m     50\u001b[0m     ax\u001b[39m.\u001b[39mset_title(\u001b[39mself\u001b[39m\u001b[39m.\u001b[39mclasses[label])\n\u001b[0;32m     51\u001b[0m     plt\u001b[39m.\u001b[39maxis(\u001b[39m\"\u001b[39m\u001b[39moff\u001b[39m\u001b[39m\"\u001b[39m)\n\u001b[1;32m---> 52\u001b[0m     imshow(img)\n\u001b[0;32m     53\u001b[0m plt\u001b[39m.\u001b[39mshow()\n",
      "File \u001b[1;32mc:\\Users\\jadur\\Documents\\Hackerman\\PyTorch\\image_classification\\data_manipulation\\data_loader.py:10\u001b[0m, in \u001b[0;36mimshow\u001b[1;34m(img)\u001b[0m\n\u001b[0;32m      8\u001b[0m img \u001b[39m=\u001b[39m img \u001b[39m/\u001b[39m \u001b[39m2\u001b[39m \u001b[39m+\u001b[39m \u001b[39m0.5\u001b[39m \u001b[39m# unnormalize\u001b[39;00m\n\u001b[0;32m      9\u001b[0m npimg \u001b[39m=\u001b[39m img\u001b[39m.\u001b[39mnumpy() \u001b[39m# convert to numpy objects\u001b[39;00m\n\u001b[1;32m---> 10\u001b[0m plt\u001b[39m.\u001b[39mimshow(np\u001b[39m.\u001b[39mtranspose(npimg, (\u001b[39m1\u001b[39m, \u001b[39m2\u001b[39m, \u001b[39m0\u001b[39m)))\n",
      "\u001b[1;31mNameError\u001b[0m: name 'np' is not defined"
     ]
    },
    {
     "data": {
      "image/png": "[encoded data removed]",
      "text/plain": [
       "<Figure size 800x800 with 1 Axes>"
      ]
     },
     "metadata": {},
     "output_type": "display_data"
    }
   ],
   "source": [
    "data.show_subplot()\n"
   ]
  }
 ],
 "metadata": {
  "kernelspec": {
   "display_name": "Python 3",
   "language": "python",
   "name": "python3"
  },
  "language_info": {
   "codemirror_mode": {
    "name": "ipython",
    "version": 3
   },
   "file_extension": ".py",
   "mimetype": "text/x-python",
   "name": "python",
   "nbconvert_exporter": "python",
   "pygments_lexer": "ipython3",
   "version": "3.11.0"
  },
  "orig_nbformat": 4
 },
 "nbformat": 4,
 "nbformat_minor": 2
}
